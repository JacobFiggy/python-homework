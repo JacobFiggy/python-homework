{
 "cells": [
  {
   "cell_type": "code",
   "execution_count": 7,
   "id": "5b144806-0402-420b-9c1d-723b424ea22b",
   "metadata": {},
   "outputs": [
    {
     "name": "stdout",
     "output_type": "stream",
     "text": [
      "Financial Analysis\n",
      "------------------------\n",
      "Total Months:86\n",
      "Total: $38382578\n",
      "Average Change: -2315.12\n",
      "Greatest Increase in Profits: Feb-2012 ($1926159)\n",
      "Greatest Decrease in Profits: Sep-2013 ($-2196167)\n"
     ]
    }
   ],
   "source": [
    "# Assignment 2-PyBank\n",
    "# Import csv and Path\n",
    "from pathlib import Path\n",
    "import csv\n",
    "csvpath=Path(\"budget_data.csv\")\n",
    "\n",
    "#Read budget_data.csv\n",
    "with open(csvpath, 'r') as csvfile:  \n",
    "    csvreader=csv.reader(csvfile, delimiter = ',')\n",
    "    header=next(csvreader)\n",
    "    month_count=[]\n",
    "    pnl=[]\n",
    "    pnl_diff=[] \n",
    "    \n",
    "                      \n",
    "    #Iterate through the values \n",
    "    for row in csvreader:\n",
    "        month_count.append(row[0])\n",
    "        pnl.append(int(row[1]))\n",
    "    for i in range(len(pnl)-1): \n",
    "                      \n",
    "#evaluate the max and min \n",
    "increase=max(pnl_diff)\n",
    "decrease=min(pnl_diff)\n",
    "#Get the index of the maximum and minimum values \n",
    "month_increase=pnl_diff.index(max(pnl_diff))+1\n",
    "month_decrease=pnl_diff.index(min(pnl_diff))+1\n",
    "\n",
    "print(\"Financial Analysis\")\n",
    "print(\"------------------------\")\n",
    "print(f\"Total Months:{len(month_count)}\")\n",
    "print(f\"Total: ${sum(pnl)}\")\n",
    "print(f\"Average Change: {round(sum(pnl_diff)/len(pnl_diff),2)}\")\n",
    "print(f\"Greatest Increase in Profits: {month_count[month_increase]} (${(str(increase))})\")\n",
    "print(f\"Greatest Decrease in Profits: {month_count[month_decrease]} (${(str(decrease))})\")  "
   ]
  },
  {
   "cell_type": "code",
   "execution_count": 12,
   "id": "5a8c924a-5ab7-417e-911c-b65324ea5ecf",
   "metadata": {},
   "outputs": [
    {
     "ename": "OSError",
     "evalue": "[Errno 30] Read-only file system: '/Downloads'",
     "output_type": "error",
     "traceback": [
      "\u001b[0;31m---------------------------------------------------------------------------\u001b[0m",
      "\u001b[0;31mOSError\u001b[0m                                   Traceback (most recent call last)",
      "\u001b[0;32m/var/folders/g6/y3nghk_j6fn9bprgztkqx3x00000gn/T/ipykernel_76988/2443242012.py\u001b[0m in \u001b[0;36m<module>\u001b[0;34m\u001b[0m\n\u001b[1;32m      1\u001b[0m \u001b[0;31m#Export script\u001b[0m\u001b[0;34m\u001b[0m\u001b[0;34m\u001b[0m\u001b[0m\n\u001b[1;32m      2\u001b[0m \u001b[0moutput\u001b[0m \u001b[0;34m=\u001b[0m \u001b[0mPath\u001b[0m\u001b[0;34m(\u001b[0m\u001b[0;34m\"/Downloads\"\u001b[0m\u001b[0;34m)\u001b[0m\u001b[0;34m\u001b[0m\u001b[0;34m\u001b[0m\u001b[0m\n\u001b[0;32m----> 3\u001b[0;31m \u001b[0;32mwith\u001b[0m \u001b[0mopen\u001b[0m\u001b[0;34m(\u001b[0m\u001b[0moutput\u001b[0m\u001b[0;34m,\u001b[0m\u001b[0;34m\"w\"\u001b[0m\u001b[0;34m)\u001b[0m \u001b[0;32mas\u001b[0m \u001b[0mnew\u001b[0m\u001b[0;34m:\u001b[0m\u001b[0;34m\u001b[0m\u001b[0;34m\u001b[0m\u001b[0m\n\u001b[0m\u001b[1;32m      4\u001b[0m     \u001b[0mnew\u001b[0m\u001b[0;34m.\u001b[0m\u001b[0mwrite\u001b[0m\u001b[0;34m(\u001b[0m\u001b[0;34m\"\\nFinancial Analysis\"\u001b[0m\u001b[0;34m)\u001b[0m\u001b[0;34m\u001b[0m\u001b[0;34m\u001b[0m\u001b[0m\n\u001b[1;32m      5\u001b[0m     \u001b[0mnew\u001b[0m\u001b[0;34m.\u001b[0m\u001b[0mwrite\u001b[0m\u001b[0;34m(\u001b[0m\u001b[0;34m\"\\n------------------------\"\u001b[0m\u001b[0;34m)\u001b[0m\u001b[0;34m\u001b[0m\u001b[0;34m\u001b[0m\u001b[0m\n",
      "\u001b[0;31mOSError\u001b[0m: [Errno 30] Read-only file system: '/Downloads'"
     ]
    }
   ],
   "source": [
    "#Export script\n",
    "output = Path(\"/Downloads\")\n",
    "with open(output,\"w\") as new:\n",
    "    new.write(\"\\nFinancial Analysis\")\n",
    "    new.write(\"\\n------------------------\")\n",
    "    new.write(f\"\\nTotal Months:{len(month_count)}\")\n",
    "    new.write(f\"\\nTotal: ${sum(pnl)}\")\n",
    "    new.write(f\"\\nAverage Change: {round(sum(pnl_diff)/len(pnl_diff),2)}\")\n",
    "    new.write(f\"\\nGreatest Increase in Profits: {month_count[month_increase]} (${(str(increase))})\")\n",
    "    new.write(f\"\\nGreatest Decrease in Profits: {month_count[month_decrease]} (${(str(decrease))})\")"
   ]
  },
  {
   "cell_type": "code",
   "execution_count": null,
   "id": "5167bfc9-e08c-4f85-ad85-25fb01d1c794",
   "metadata": {},
   "outputs": [],
   "source": []
  }
 ],
 "metadata": {
  "kernelspec": {
   "display_name": "Python 3 (ipykernel)",
   "language": "python",
   "name": "python3"
  },
  "language_info": {
   "codemirror_mode": {
    "name": "ipython",
    "version": 3
   },
   "file_extension": ".py",
   "mimetype": "text/x-python",
   "name": "python",
   "nbconvert_exporter": "python",
   "pygments_lexer": "ipython3",
   "version": "3.9.7"
  }
 },
 "nbformat": 4,
 "nbformat_minor": 5
}
